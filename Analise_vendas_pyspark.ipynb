{
  "nbformat": 4,
  "nbformat_minor": 0,
  "metadata": {
    "colab": {
      "provenance": [],
      "authorship_tag": "ABX9TyPSc/HWPnnqkuRh4JWzyE72",
      "include_colab_link": true
    },
    "kernelspec": {
      "name": "python3",
      "display_name": "Python 3"
    },
    "language_info": {
      "name": "python"
    }
  },
  "cells": [
    {
      "cell_type": "markdown",
      "metadata": {
        "id": "view-in-github",
        "colab_type": "text"
      },
      "source": [
        "<a href=\"https://colab.research.google.com/github/Gusta02/Analise_vendas_pyspark/blob/main/Analise_vendas_pyspark.ipynb\" target=\"_parent\"><img src=\"https://colab.research.google.com/assets/colab-badge.svg\" alt=\"Open In Colab\"/></a>"
      ]
    },
    {
      "cell_type": "code",
      "execution_count": 1,
      "metadata": {
        "colab": {
          "base_uri": "https://localhost:8080/"
        },
        "id": "MtfBY6PkCvv5",
        "outputId": "40120bdb-8d4c-4a3f-b312-37196f1ae9b8"
      },
      "outputs": [
        {
          "output_type": "stream",
          "name": "stdout",
          "text": [
            "Collecting pyspark\n",
            "  Downloading pyspark-3.4.1.tar.gz (310.8 MB)\n",
            "\u001b[2K     \u001b[90m━━━━━━━━━━━━━━━━━━━━━━━━━━━━━━━━━━━━━━━\u001b[0m \u001b[32m310.8/310.8 MB\u001b[0m \u001b[31m2.7 MB/s\u001b[0m eta \u001b[36m0:00:00\u001b[0m\n",
            "\u001b[?25h  Preparing metadata (setup.py) ... \u001b[?25l\u001b[?25hdone\n",
            "Requirement already satisfied: py4j==0.10.9.7 in /usr/local/lib/python3.10/dist-packages (from pyspark) (0.10.9.7)\n",
            "Building wheels for collected packages: pyspark\n",
            "  Building wheel for pyspark (setup.py) ... \u001b[?25l\u001b[?25hdone\n",
            "  Created wheel for pyspark: filename=pyspark-3.4.1-py2.py3-none-any.whl size=311285397 sha256=f5fbe04949da17e7b65d3c003d4e01e2a404302422642da08384c93dc80b1bfb\n",
            "  Stored in directory: /root/.cache/pip/wheels/0d/77/a3/ff2f74cc9ab41f8f594dabf0579c2a7c6de920d584206e0834\n",
            "Successfully built pyspark\n",
            "Installing collected packages: pyspark\n",
            "Successfully installed pyspark-3.4.1\n"
          ]
        }
      ],
      "source": [
        "# Instalando o PySpark\n",
        "!pip install pyspark"
      ]
    },
    {
      "cell_type": "code",
      "source": [
        "# Importando bibliotecas\n",
        "from pyspark.sql import SparkSession\n",
        "\n",
        "# Iniciando uma sessão PySpark\n",
        "spark = SparkSession.builder.appName(\"Análise de Vendas\").getOrCreate()\n",
        "\n",
        "# Importando bibliotecas de visualização\n",
        "import matplotlib.pyplot as plt\n",
        "import seaborn as sns"
      ],
      "metadata": {
        "id": "MIrITk6mGL62"
      },
      "execution_count": 2,
      "outputs": []
    },
    {
      "cell_type": "code",
      "source": [
        "# Carregando dados em um DataFrame\n",
        "data_path = \"/content/dados_vendas.csv\"\n",
        "sales_df = spark.read.csv(data_path, header=True, inferSchema=True)"
      ],
      "metadata": {
        "id": "UgkDXl7KGOuA"
      },
      "execution_count": 3,
      "outputs": []
    },
    {
      "cell_type": "code",
      "source": [
        "# Exibindo informações sobre o DataFrame\n",
        "sales_df.printSchema()\n",
        "\n",
        "# Lidando com valores nulos (null)\n",
        "sales_df = sales_df.dropna()\n",
        "\n",
        "# Renomeando colunas para padronização (caso necessário)\n",
        "sales_df = sales_df.withColumnRenamed(\"Product_ID\", \"product_id\")\n",
        "\n",
        "# Convertendo colunas de data para o formato apropriado (caso necessário)\n",
        "from pyspark.sql.functions import to_date\n",
        "\n",
        "sales_df = sales_df.withColumn(\"Date\", to_date(\"Date\", \"yyyy-MM-dd\"))\n"
      ],
      "metadata": {
        "colab": {
          "base_uri": "https://localhost:8080/"
        },
        "id": "vGMxsi98GZq-",
        "outputId": "f17bce44-1fb3-43d1-bd91-40d1f0424ebf"
      },
      "execution_count": 4,
      "outputs": [
        {
          "output_type": "stream",
          "name": "stdout",
          "text": [
            "root\n",
            " |-- Date: date (nullable = true)\n",
            " |-- Product_ID: integer (nullable = true)\n",
            " |-- Amount_Sold: integer (nullable = true)\n",
            "\n"
          ]
        }
      ]
    },
    {
      "cell_type": "code",
      "source": [
        "# Calculando o total de vendas por produto\n",
        "product_sales = sales_df.groupBy(\"product_id\").sum(\"Amount_Sold\").withColumnRenamed(\"sum(Amount_Sold)\", \"total_sales\")\n",
        "\n",
        "# Exibindo os produtos mais vendidos\n",
        "top_products = product_sales.orderBy(product_sales.total_sales.desc()).limit(5)\n",
        "top_products.show()\n"
      ],
      "metadata": {
        "colab": {
          "base_uri": "https://localhost:8080/"
        },
        "id": "TOIIqARsGhGn",
        "outputId": "c7955dd6-147f-43a2-dd77-8f55c5d22c2a"
      },
      "execution_count": 5,
      "outputs": [
        {
          "output_type": "stream",
          "name": "stdout",
          "text": [
            "+----------+-----------+\n",
            "|product_id|total_sales|\n",
            "+----------+-----------+\n",
            "|      1003|       1200|\n",
            "|      1001|        800|\n",
            "|      1002|        790|\n",
            "+----------+-----------+\n",
            "\n"
          ]
        }
      ]
    },
    {
      "cell_type": "code",
      "source": [
        "# Convertendo o DataFrame para um Pandas DataFrame para uso com o Seaborn\n",
        "import pandas as pd\n",
        "\n",
        "top_products_pd = top_products.toPandas()\n",
        "\n",
        "# Criando um gráfico de barras usando Seaborn\n",
        "plt.figure(figsize=(10, 6))\n",
        "sns.barplot(x=\"product_id\", y=\"total_sales\", data=top_products_pd)\n",
        "plt.title(\"Produtos Mais Vendidos\")\n",
        "plt.xlabel(\"ID do Produto\")\n",
        "plt.ylabel(\"Total de Vendas\")\n",
        "plt.show()\n"
      ],
      "metadata": {
        "colab": {
          "base_uri": "https://localhost:8080/",
          "height": 563
        },
        "id": "L04B2NttGnLW",
        "outputId": "91b1bcfd-9837-466c-f1e7-f934c53a4334"
      },
      "execution_count": 6,
      "outputs": [
        {
          "output_type": "display_data",
          "data": {
            "text/plain": [
              "<Figure size 1000x600 with 1 Axes>"
            ],
            "image/png": "[encoded data removed]"
          },
          "metadata": {}
        }
      ]
    }
  ]
}